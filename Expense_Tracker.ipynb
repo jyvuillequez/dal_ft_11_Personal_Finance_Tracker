{
 "cells": [
  {
   "cell_type": "code",
   "execution_count": null,
   "id": "09ee105d",
   "metadata": {},
   "outputs": [],
   "source": [
    "expenses = []\n",
    "\n",
    "def add_expense():\n",
    "    category = input(\"Enter expense category (e.g., Food, Rent): \")\n",
    "    amount = float(input(\"Enter expense amount: \"))\n",
    "    expenses.append((category, amount))\n",
    "    print(\"Expense added!\")"
   ]
  }
 ],
 "metadata": {
  "language_info": {
   "name": "python"
  }
 },
 "nbformat": 4,
 "nbformat_minor": 5
}
